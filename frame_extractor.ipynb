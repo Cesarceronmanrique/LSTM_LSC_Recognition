{
  "nbformat": 4,
  "nbformat_minor": 0,
  "metadata": {
    "colab": {
      "provenance": [],
      "gpuType": "T4"
    },
    "kernelspec": {
      "name": "python3",
      "display_name": "Python 3"
    },
    "language_info": {
      "name": "python"
    },
    "accelerator": "GPU"
  },
  "cells": [
    {
      "cell_type": "code",
      "execution_count": null,
      "metadata": {
        "id": "WNj76V6EEuZF"
      },
      "outputs": [],
      "source": [
        "import cv2\n",
        "import os\n",
        "import glob"
      ]
    },
    {
      "cell_type": "code",
      "source": [
        "from google.colab import drive\n",
        "drive.mount('/content/drive')"
      ],
      "metadata": {
        "colab": {
          "base_uri": "https://localhost:8080/"
        },
        "id": "sXzq6ZfCE4I1",
        "outputId": "00d47a32-0ddc-4a02-c6d1-7c7d9098ae5d"
      },
      "execution_count": null,
      "outputs": [
        {
          "output_type": "stream",
          "name": "stdout",
          "text": [
            "Mounted at /content/drive\n"
          ]
        }
      ]
    },
    {
      "cell_type": "code",
      "source": [
        "# Ruta de la carpeta donde están organizadas las subcarpetas de acción con los videos\n",
        "# videos_root_path = '/content/drive/MyDrive/UNIR/TFE/LSC/Con Video/Videos'\n",
        "videos_root_path = '/content/drive/MyDrive/UNIR/TFE/LSC/Con Video/Videos/Palabras'\n",
        "\n",
        "# Ruta de la carpeta donde se guardarán los fotogramas organizados por acción\n",
        "frames_root_dir = '/content/drive/MyDrive/UNIR/TFE/LSC/Con Video/Frames'\n",
        "\n",
        "# Cantidad de fotogramas por segundo que se desean guardar de cada video\n",
        "desired_fps = 20\n",
        "\n",
        "# Crea la carpeta principal para todos los fotogramas si no existe\n",
        "os.makedirs(frames_root_dir, exist_ok=True)\n",
        "\n",
        "# Lista de acciones que esperas encontrar en tu estructura de carpetas\n",
        "actions = ['bancos', 'baños', 'comidas', 'juegosinfantiles', 'parqueaderos']\n",
        "\n",
        "# Itera sobre cada acción\n",
        "for action in actions:\n",
        "    # Ruta de la carpeta donde están los videos de la acción actual\n",
        "    videos_path = os.path.join(videos_root_path, action)\n",
        "\n",
        "    # Ruta de la carpeta donde se guardarán los fotogramas de la acción actual\n",
        "    action_frames_dir = os.path.join(frames_root_dir, action)\n",
        "    os.makedirs(action_frames_dir, exist_ok=True)\n",
        "\n",
        "    # Obtiene la lista de todos los videos en la carpeta de acción\n",
        "    video_files = glob.glob(os.path.join(videos_path, '*.mp4'))\n",
        "\n",
        "    # Procesa cada video de la acción\n",
        "    for sequence, video_path in enumerate(video_files, 1):\n",
        "        # Abre el video con OpenCV\n",
        "        cap = cv2.VideoCapture(video_path)\n",
        "        if not cap.isOpened():\n",
        "            print(f\"No se pudo abrir el video {video_path}\")\n",
        "            continue\n",
        "\n",
        "        # Obtiene la cantidad total de fotogramas del video original\n",
        "        total_frames = int(cap.get(cv2.CAP_PROP_FRAME_COUNT))\n",
        "\n",
        "        # Obtiene la tasa de fotogramas original del video\n",
        "        fps = cap.get(cv2.CAP_PROP_FPS)\n",
        "\n",
        "        # Obtiene la duración del video en segundos\n",
        "        video_duration = total_frames / fps\n",
        "\n",
        "        # Determina la cantidad de fotogramas a extraer\n",
        "        desired_frame_count = min(int(video_duration * desired_fps), 20) # Total de frames del video\n",
        "\n",
        "        # Calcula el frame rate ratio para extraer la cantidad deseada de fotogramas\n",
        "        frame_rate_ratio = max(total_frames / desired_frame_count, 1)\n",
        "\n",
        "        # Ruta de la carpeta donde se guardarán los fotogramas de este video\n",
        "        frames_dir = os.path.join(action_frames_dir, f\"{sequence}\")\n",
        "        os.makedirs(frames_dir, exist_ok=True)\n",
        "\n",
        "        print(f\"Procesando video {sequence} de la acción {action}, fps original: {fps}, extrayendo {desired_frame_count} fotogramas de duración {video_duration:.2f} segundos\")\n",
        "\n",
        "        frame_count = 0\n",
        "        saved_frame_count = 0\n",
        "        while cap.isOpened():\n",
        "            ret, frame = cap.read()\n",
        "\n",
        "            if not ret:\n",
        "                break\n",
        "\n",
        "            # Extrae cada frame basado en la proporción de la tasa de fotogramas\n",
        "            if frame_count % frame_rate_ratio < 1:\n",
        "                # Define el nombre del archivo para el fotograma actual\n",
        "                frame_filename = f\"{saved_frame_count}.jpg\"\n",
        "                frame_path = os.path.join(frames_dir, frame_filename)\n",
        "\n",
        "                # Guarda el fotograma en la carpeta específica\n",
        "                cv2.imwrite(frame_path, frame)\n",
        "                saved_frame_count += 1\n",
        "\n",
        "            frame_count += 1\n",
        "\n",
        "        # Libera el objeto cap cuando haya terminado de procesar el video\n",
        "        cap.release()\n",
        "\n",
        "        # Cierra todas las ventanas que OpenCV haya abierto\n",
        "        cv2.destroyAllWindows()"
      ],
      "metadata": {
        "colab": {
          "base_uri": "https://localhost:8080/",
          "height": 216
        },
        "id": "61ZEgdEAHYF4",
        "outputId": "57a4f90f-4561-406f-f5ac-6ad85e499554"
      },
      "execution_count": 1,
      "outputs": [
        {
          "output_type": "error",
          "ename": "NameError",
          "evalue": "name 'os' is not defined",
          "traceback": [
            "\u001b[0;31m---------------------------------------------------------------------------\u001b[0m",
            "\u001b[0;31mNameError\u001b[0m                                 Traceback (most recent call last)",
            "\u001b[0;32m<ipython-input-1-76cacbc2001f>\u001b[0m in \u001b[0;36m<cell line: 12>\u001b[0;34m()\u001b[0m\n\u001b[1;32m     10\u001b[0m \u001b[0;34m\u001b[0m\u001b[0m\n\u001b[1;32m     11\u001b[0m \u001b[0;31m# Crea la carpeta principal para todos los fotogramas si no existe\u001b[0m\u001b[0;34m\u001b[0m\u001b[0;34m\u001b[0m\u001b[0m\n\u001b[0;32m---> 12\u001b[0;31m \u001b[0mos\u001b[0m\u001b[0;34m.\u001b[0m\u001b[0mmakedirs\u001b[0m\u001b[0;34m(\u001b[0m\u001b[0mframes_root_dir\u001b[0m\u001b[0;34m,\u001b[0m \u001b[0mexist_ok\u001b[0m\u001b[0;34m=\u001b[0m\u001b[0;32mTrue\u001b[0m\u001b[0;34m)\u001b[0m\u001b[0;34m\u001b[0m\u001b[0;34m\u001b[0m\u001b[0m\n\u001b[0m\u001b[1;32m     13\u001b[0m \u001b[0;34m\u001b[0m\u001b[0m\n\u001b[1;32m     14\u001b[0m \u001b[0;31m# Lista de acciones que esperas encontrar en tu estructura de carpetas\u001b[0m\u001b[0;34m\u001b[0m\u001b[0;34m\u001b[0m\u001b[0m\n",
            "\u001b[0;31mNameError\u001b[0m: name 'os' is not defined"
          ]
        }
      ]
    }
  ]
}